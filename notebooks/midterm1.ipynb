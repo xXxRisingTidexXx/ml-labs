{
 "cells": [
  {
   "cell_type": "code",
   "execution_count": 1,
   "id": "83bfb3bc-2e66-4457-9217-e19d495d16d3",
   "metadata": {},
   "outputs": [],
   "source": [
    "from matplotlib.pyplot import subplots\n",
    "from pandas import read_csv\n",
    "from seaborn import set_style"
   ]
  },
  {
   "cell_type": "code",
   "execution_count": 2,
   "id": "f1f5d7aa-9d8b-40b0-afc6-3fc41d998db0",
   "metadata": {
    "tags": []
   },
   "outputs": [],
   "source": [
    "set_style('darkgrid')"
   ]
  },
  {
   "cell_type": "code",
   "execution_count": null,
   "id": "db51f84c-3331-4444-8cf6-634f9e51a9b8",
   "metadata": {
    "tags": []
   },
   "outputs": [],
   "source": [
    "participants = read_csv('data/participants2.csv', sep=';')"
   ]
  },
  {
   "cell_type": "code",
   "execution_count": null,
   "id": "5de9692d-8b43-4bcd-a06e-c5c8c6f86fc8",
   "metadata": {
    "tags": []
   },
   "outputs": [],
   "source": [
    "participants.info(verbose=True, show_counts=True, memory_usage=True)"
   ]
  },
  {
   "cell_type": "code",
   "execution_count": null,
   "id": "164812fd-9592-4911-a932-2c4c3b35eb09",
   "metadata": {
    "tags": []
   },
   "outputs": [],
   "source": [
    "participants[participants.columns[:16]]"
   ]
  }
 ],
 "metadata": {
  "kernelspec": {
   "display_name": "Python 3 (ipykernel)",
   "language": "python",
   "name": "python3"
  },
  "language_info": {
   "codemirror_mode": {
    "name": "ipython",
    "version": 3
   },
   "file_extension": ".py",
   "mimetype": "text/x-python",
   "name": "python",
   "nbconvert_exporter": "python",
   "pygments_lexer": "ipython3",
   "version": "3.10.10"
  }
 },
 "nbformat": 4,
 "nbformat_minor": 5
}
