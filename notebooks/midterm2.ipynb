{
 "cells": [
  {
   "cell_type": "markdown",
   "id": "01a1c1a4-f71c-4fe0-9334-daba0ed9a52a",
   "metadata": {},
   "source": [
    "# Аналіз емоцій"
   ]
  },
  {
   "cell_type": "markdown",
   "id": "fd667417-5985-4227-866f-b1f2c67da54c",
   "metadata": {},
   "source": [
    "В роботі розглянуте визначення емоційного забарвлення текстових повідомлень із\n",
    "[вибірки](https://www.kaggle.com/datasets/nursyahrina/chat-sentiment-dataset), що згенерована ChatGPT. Сумарно 584\n",
    "документи мають одну з трьох позначок — `positive`, `neutral` та `negative`. Потрібно створити класифікатор, що для\n",
    "заданого тексту визначатиме його емоційне забарвлення."
   ]
  },
  {
   "cell_type": "code",
   "execution_count": 1,
   "id": "0f493291-8ea4-4eb2-b859-2544aadf2b7f",
   "metadata": {
    "tags": []
   },
   "outputs": [],
   "source": [
    "from matplotlib.pyplot import subplots\n",
    "from numpy import arange\n",
    "from pandas import read_csv\n",
    "from seaborn import set_style, barplot, heatmap\n",
    "from sklearn.decomposition import TruncatedSVD\n",
    "from sklearn.ensemble import RandomForestClassifier\n",
    "from sklearn.feature_extraction.text import CountVectorizer\n",
    "from sklearn.linear_model import LogisticRegression\n",
    "from sklearn.metrics import accuracy_score, confusion_matrix\n",
    "from sklearn.model_selection import RandomizedSearchCV, GridSearchCV, train_test_split\n",
    "from sklearn.pipeline import make_pipeline\n",
    "from sklearn.preprocessing import StandardScaler\n",
    "from sklearn.svm import SVC"
   ]
  },
  {
   "cell_type": "code",
   "execution_count": 2,
   "id": "486c191b-8e0b-4c15-b5b6-4a62a3c12678",
   "metadata": {
    "tags": []
   },
   "outputs": [],
   "source": [
    "set_style('darkgrid')"
   ]
  },
  {
   "cell_type": "code",
   "execution_count": 3,
   "id": "041f5da9-9ab8-4221-8fb1-370a4d8b2171",
   "metadata": {
    "tags": []
   },
   "outputs": [],
   "source": [
    "chat = read_csv('data/chat_dataset.csv')"
   ]
  },
  {
   "cell_type": "code",
   "execution_count": 4,
   "id": "cb7cb291-4e25-41ed-a549-3753a7c643d8",
   "metadata": {
    "tags": []
   },
   "outputs": [
    {
     "name": "stdout",
     "output_type": "stream",
     "text": [
      "<class 'pandas.core.frame.DataFrame'>\n",
      "RangeIndex: 584 entries, 0 to 583\n",
      "Data columns (total 2 columns):\n",
      " #   Column     Non-Null Count  Dtype \n",
      "---  ------     --------------  ----- \n",
      " 0   message    584 non-null    object\n",
      " 1   sentiment  584 non-null    object\n",
      "dtypes: object(2)\n",
      "memory usage: 9.3+ KB\n"
     ]
    }
   ],
   "source": [
    "chat.info()"
   ]
  },
  {
   "cell_type": "code",
   "execution_count": 5,
   "id": "467a300a-57c1-4cf1-8f61-eb52fb2bac6b",
   "metadata": {
    "tags": []
   },
   "outputs": [
    {
     "data": {
      "text/html": [
       "<div>\n",
       "<style scoped>\n",
       "    .dataframe tbody tr th:only-of-type {\n",
       "        vertical-align: middle;\n",
       "    }\n",
       "\n",
       "    .dataframe tbody tr th {\n",
       "        vertical-align: top;\n",
       "    }\n",
       "\n",
       "    .dataframe thead th {\n",
       "        text-align: right;\n",
       "    }\n",
       "</style>\n",
       "<table border=\"1\" class=\"dataframe\">\n",
       "  <thead>\n",
       "    <tr style=\"text-align: right;\">\n",
       "      <th></th>\n",
       "      <th>message</th>\n",
       "      <th>sentiment</th>\n",
       "    </tr>\n",
       "  </thead>\n",
       "  <tbody>\n",
       "    <tr>\n",
       "      <th>0</th>\n",
       "      <td>I really enjoyed the movie</td>\n",
       "      <td>positive</td>\n",
       "    </tr>\n",
       "    <tr>\n",
       "      <th>1</th>\n",
       "      <td>The food was terrible</td>\n",
       "      <td>negative</td>\n",
       "    </tr>\n",
       "    <tr>\n",
       "      <th>2</th>\n",
       "      <td>I'm not sure how I feel about this</td>\n",
       "      <td>neutral</td>\n",
       "    </tr>\n",
       "    <tr>\n",
       "      <th>3</th>\n",
       "      <td>The service was excellent</td>\n",
       "      <td>positive</td>\n",
       "    </tr>\n",
       "    <tr>\n",
       "      <th>4</th>\n",
       "      <td>I had a bad experience</td>\n",
       "      <td>negative</td>\n",
       "    </tr>\n",
       "    <tr>\n",
       "      <th>5</th>\n",
       "      <td>This is a great product</td>\n",
       "      <td>positive</td>\n",
       "    </tr>\n",
       "    <tr>\n",
       "      <th>6</th>\n",
       "      <td>I wouldn't recommend this</td>\n",
       "      <td>negative</td>\n",
       "    </tr>\n",
       "    <tr>\n",
       "      <th>7</th>\n",
       "      <td>The price is a bit high</td>\n",
       "      <td>neutral</td>\n",
       "    </tr>\n",
       "    <tr>\n",
       "      <th>8</th>\n",
       "      <td>The weather is perfect today</td>\n",
       "      <td>positive</td>\n",
       "    </tr>\n",
       "    <tr>\n",
       "      <th>9</th>\n",
       "      <td>The traffic is horrible</td>\n",
       "      <td>negative</td>\n",
       "    </tr>\n",
       "  </tbody>\n",
       "</table>\n",
       "</div>"
      ],
      "text/plain": [
       "                              message sentiment\n",
       "0          I really enjoyed the movie  positive\n",
       "1               The food was terrible  negative\n",
       "2  I'm not sure how I feel about this   neutral\n",
       "3           The service was excellent  positive\n",
       "4              I had a bad experience  negative\n",
       "5             This is a great product  positive\n",
       "6           I wouldn't recommend this  negative\n",
       "7             The price is a bit high   neutral\n",
       "8        The weather is perfect today  positive\n",
       "9             The traffic is horrible  negative"
      ]
     },
     "execution_count": 5,
     "metadata": {},
     "output_type": "execute_result"
    }
   ],
   "source": [
    "chat.head(10)"
   ]
  },
  {
   "cell_type": "markdown",
   "id": "7ff8721b-0161-480b-b2f5-946e5f687517",
   "metadata": {},
   "source": [
    "Хоча датасет є синтетичним і його класи не є ідеально збалансованими, в подальших обчисленнях вважатимемо їх такими,\n",
    "що не потребують зважування за розміром."
   ]
  },
  {
   "cell_type": "code",
   "execution_count": 6,
   "id": "5d673f18-0eaf-436a-8a90-e01cd7b7453d",
   "metadata": {
    "tags": []
   },
   "outputs": [
    {
     "data": {
      "image/png": "[encoded data removed]",
      "text/plain": [
       "<Figure size 900x600 with 1 Axes>"
      ]
     },
     "metadata": {},
     "output_type": "display_data"
    }
   ],
   "source": [
    "sentiment_counts = chat['sentiment'].value_counts()\n",
    "axes = subplots(figsize=(9, 6))[1]\n",
    "barplot(x=sentiment_counts.index, y=sentiment_counts.values, ax=axes)\n",
    "for container in axes.containers:\n",
    "    axes.bar_label(container)\n",
    "axes.set_title('Кількість категорій повідомлень')\n",
    "axes.set_xlabel('Емоційне забарвлення')\n",
    "axes.set_ylabel('Кількість');"
   ]
  },
  {
   "cell_type": "code",
   "execution_count": 7,
   "id": "ab42d4c8-edd9-4f84-9de3-7d1791d45697",
   "metadata": {
    "tags": []
   },
   "outputs": [],
   "source": [
    "train_messages, test_messages, train_sentiments, test_sentiments = train_test_split(\n",
    "    chat['message'],\n",
    "    chat['sentiment'],\n",
    "    test_size=0.25,\n",
    "    stratify=chat['sentiment']\n",
    ")"
   ]
  },
  {
   "cell_type": "markdown",
   "id": "8f572969-0b77-4f12-98fd-8eb81f1ecea1",
   "metadata": {},
   "source": [
    "## Логістична регресія"
   ]
  },
  {
   "cell_type": "markdown",
   "id": "c43d6965-d943-425a-a589-fff09aeed7aa",
   "metadata": {},
   "source": [
    "Оскільки ми працюємо з текстом, в пайплайн обробки слід додати векторизатор. Для цього був обраний\n",
    "[CountVectorizer](https://scikit-learn.org/stable/modules/generated/sklearn.feature_extraction.text.CountVectorizer.html),\n",
    "що добре себе зарекомендував у подібних задачах. Оскільки його виведення є розрідженою матрицею, для зменшення\n",
    "розмірності замість PCA обрано\n",
    "[TruncatedSVD](https://scikit-learn.org/stable/modules/generated/sklearn.decomposition.TruncatedSVD.html). А найпершим\n",
    "алгоритмом класифікації обрана стара добра\n",
    "[LogisticRegression](https://scikit-learn.org/stable/modules/generated/sklearn.linear_model.LogisticRegression.html)."
   ]
  },
  {
   "cell_type": "code",
   "execution_count": 8,
   "id": "aaf4f446-b4ad-4cff-9b0c-0c6201da87b0",
   "metadata": {
    "tags": []
   },
   "outputs": [],
   "source": [
    "logistic_regression_pipeline = make_pipeline(\n",
    "    CountVectorizer(),\n",
    "    TruncatedSVD(),\n",
    "    LogisticRegression(max_iter=300)\n",
    ")"
   ]
  },
  {
   "cell_type": "markdown",
   "id": "87949b61-5873-43dd-bb91-aa760754451c",
   "metadata": {},
   "source": [
    "В просторі гіперпараметрів також задаємо опції векторизатора — можливість інженерити не тільки поодинокі слова, а й\n",
    "біграми."
   ]
  },
  {
   "cell_type": "code",
   "execution_count": 9,
   "id": "5eb1b95b-b6b8-4ee0-a271-54bf59d4942e",
   "metadata": {
    "tags": []
   },
   "outputs": [],
   "source": [
    "logistic_regression_distributions = {\n",
    "    'countvectorizer__ngram_range': [(1, 1), (1, 2)],\n",
    "    'truncatedsvd__n_components': [5, 50, 500],\n",
    "    'logisticregression__C': 10.0 ** arange(-2, 3, 1)\n",
    "}"
   ]
  },
  {
   "cell_type": "markdown",
   "id": "5fd8a7f3-7b22-498c-bd1b-0eb53877ad8c",
   "metadata": {},
   "source": [
    "Тут задаємо [GridSearchCV](https://scikit-learn.org/stable/modules/generated/sklearn.model_selection.GridSearchCV.html)\n",
    "усіх опцій зі\n",
    "[StratifiedKFold](http://scikit-learn.org/stable/modules/generated/sklearn.model_selection.StratifiedKFold.html) \n",
    "крос-валідацією на 5 фрагментів."
   ]
  },
  {
   "cell_type": "code",
   "execution_count": 10,
   "id": "ad8b4315-bad3-4921-9a5e-44a18e2afbce",
   "metadata": {
    "tags": []
   },
   "outputs": [],
   "source": [
    "logistic_regression_cv = GridSearchCV(\n",
    "    logistic_regression_pipeline,\n",
    "    logistic_regression_distributions,\n",
    "    n_jobs=4,\n",
    "    cv=5\n",
    ")"
   ]
  },
  {
   "cell_type": "code",
   "execution_count": 11,
   "id": "52779c17-a234-431e-99ed-89d29c411c33",
   "metadata": {
    "tags": []
   },
   "outputs": [
    {
     "name": "stdout",
     "output_type": "stream",
     "text": [
      "CPU times: user 1.67 s, sys: 1.85 s, total: 3.52 s\n",
      "Wall time: 5.92 s\n"
     ]
    }
   ],
   "source": [
    "%%time\n",
    "logistic_regression_cv.fit(train_messages, train_sentiments);"
   ]
  },
  {
   "cell_type": "code",
   "execution_count": 12,
   "id": "f07f2e7b-8482-4ccc-a67c-c29987635cf3",
   "metadata": {
    "tags": []
   },
   "outputs": [
    {
     "data": {
      "text/plain": [
       "0.7900470219435738"
      ]
     },
     "execution_count": 12,
     "metadata": {},
     "output_type": "execute_result"
    }
   ],
   "source": [
    "logistic_regression_cv.best_score_"
   ]
  },
  {
   "cell_type": "code",
   "execution_count": 13,
   "id": "94e4d4d4-d4d9-47bd-9297-6cb026c0f90d",
   "metadata": {
    "tags": []
   },
   "outputs": [
    {
     "data": {
      "text/plain": [
       "{'countvectorizer__ngram_range': (1, 2),\n",
       " 'logisticregression__C': 100.0,\n",
       " 'truncatedsvd__n_components': 500}"
      ]
     },
     "execution_count": 13,
     "metadata": {},
     "output_type": "execute_result"
    }
   ],
   "source": [
    "logistic_regression_cv.best_params_"
   ]
  },
  {
   "cell_type": "code",
   "execution_count": 14,
   "id": "cdde6b7b-4e63-404d-a736-645b281ba874",
   "metadata": {
    "tags": []
   },
   "outputs": [],
   "source": [
    "predicted_sentiments = logistic_regression_cv.best_estimator_.predict(test_messages)"
   ]
  },
  {
   "cell_type": "code",
   "execution_count": 15,
   "id": "7d7342e6-296a-4134-b0eb-bf63447e12cc",
   "metadata": {
    "tags": []
   },
   "outputs": [
    {
     "data": {
      "text/plain": [
       "0.8493150684931506"
      ]
     },
     "execution_count": 15,
     "metadata": {},
     "output_type": "execute_result"
    }
   ],
   "source": [
    "accuracy_score(test_sentiments, predicted_sentiments)"
   ]
  },
  {
   "cell_type": "code",
   "execution_count": 16,
   "id": "043b8eb8-10e1-4ed0-845b-20b46f79be32",
   "metadata": {
    "tags": []
   },
   "outputs": [
    {
     "data": {
      "image/png": "[encoded data removed]",
      "text/plain": [
       "<Figure size 800x600 with 2 Axes>"
      ]
     },
     "metadata": {},
     "output_type": "display_data"
    }
   ],
   "source": [
    "axes = subplots(figsize=(8, 6))[1]\n",
    "matrix = confusion_matrix(test_sentiments, predicted_sentiments)\n",
    "labels = logistic_regression_cv.best_estimator_['logisticregression'].classes_\n",
    "chart = heatmap(\n",
    "    matrix,\n",
    "    annot=True,\n",
    "    ax=axes,\n",
    "    vmin=0,\n",
    "    fmt='d',\n",
    "    square=True\n",
    ")\n",
    "chart.set_xticklabels(labels)\n",
    "chart.set_yticklabels(labels)\n",
    "axes.set_title('Матриця невідповідностей, логістична регресія')\n",
    "axes.set_xlabel('Спрогнозовані сентименти')\n",
    "axes.set_ylabel('Істинні сентименти');"
   ]
  },
  {
   "cell_type": "markdown",
   "id": "a0e847b2-d295-46bc-88b0-3a26faec08ac",
   "metadata": {},
   "source": [
    "Як бачимо, найбільше помилок серед негативних відгуків, що вважаються нейтральними."
   ]
  },
  {
   "cell_type": "code",
   "execution_count": 46,
   "id": "f16fe794-d050-4e87-b79d-307ae8d50168",
   "metadata": {
    "tags": []
   },
   "outputs": [
    {
     "data": {
      "text/plain": [
       "132                                 I did not enjoy this\n",
       "145                            This is a useless product\n",
       "34                            This product is overpriced\n",
       "160                             The hotel was overpriced\n",
       "157                    The view from here is unappealing\n",
       "133                                 The car is expensive\n",
       "499    I'm so sick and tired of feeling sick and tire...\n",
       "135              The service at this restaurant was poor\n",
       "573    I have to work on Saturday this week and I was...\n",
       "149                   The service at this hotel was poor\n",
       "Name: message, dtype: object"
      ]
     },
     "execution_count": 46,
     "metadata": {},
     "output_type": "execute_result"
    }
   ],
   "source": [
    "test_messages[(test_sentiments == 'negative') & (predicted_sentiments == 'neutral')]"
   ]
  },
  {
   "cell_type": "markdown",
   "id": "f0886793-5a07-44a9-ac6d-0f4779296ea2",
   "metadata": {},
   "source": [
    "## Випадковий ліс"
   ]
  },
  {
   "cell_type": "markdown",
   "id": "ec7f52d8-6129-4e3b-927b-244811b6a3eb",
   "metadata": {},
   "source": [
    "А тепер перевіримо ансамблі у вигляді\n",
    "[RandomForestClassifier](https://scikit-learn.org/stable/modules/generated/sklearn.ensemble.RandomForestClassifier.html).\n",
    "Тут той самий векторизатор, але без масштабування ознак чи зменшення розмірності."
   ]
  },
  {
   "cell_type": "code",
   "execution_count": 18,
   "id": "a0c93e08-3bd9-409e-b96d-e3135b7b4497",
   "metadata": {
    "tags": []
   },
   "outputs": [],
   "source": [
    "random_forest_pipeline = make_pipeline(CountVectorizer(), RandomForestClassifier())"
   ]
  },
  {
   "cell_type": "code",
   "execution_count": 19,
   "id": "22d17ce6-2943-4541-b1b9-eaf3ec461184",
   "metadata": {
    "tags": []
   },
   "outputs": [],
   "source": [
    "random_forest_distributions = {\n",
    "    'countvectorizer__ngram_range': [(1, 1), (1, 2)],\n",
    "    'randomforestclassifier__n_estimators': [1, 5, 20, 50, 100, 200],\n",
    "    'randomforestclassifier__max_depth': [None, 2, 5, 20],\n",
    "    'randomforestclassifier__min_samples_split': [2, 5, 10],\n",
    "    'randomforestclassifier__min_samples_leaf': [1, 2, 5],\n",
    "    'randomforestclassifier__max_leaf_nodes': [None, 2, 5, 10]\n",
    "}"
   ]
  },
  {
   "cell_type": "markdown",
   "id": "733d4f03-6f6d-4aae-a38a-3b58c8adea6e",
   "metadata": {},
   "source": [
    "А тут насправді великий простір гіперпараметрів, для прискорення обчислення використаємо вибіркову\n",
    "[RandomizedSearchCV](https://scikit-learn.org/stable/modules/generated/sklearn.model_selection.RandomizedSearchCV.html)."
   ]
  },
  {
   "cell_type": "code",
   "execution_count": 20,
   "id": "694ed1c1-3aa8-458f-ba20-a524e77d352a",
   "metadata": {
    "tags": []
   },
   "outputs": [],
   "source": [
    "random_forest_cv = RandomizedSearchCV(\n",
    "    random_forest_pipeline,\n",
    "    random_forest_distributions,\n",
    "    n_iter=100,\n",
    "    n_jobs=8,\n",
    "    cv=5\n",
    ")"
   ]
  },
  {
   "cell_type": "code",
   "execution_count": 21,
   "id": "0227697a-8d32-47ca-874b-69d0b3cf5812",
   "metadata": {
    "tags": []
   },
   "outputs": [
    {
     "name": "stdout",
     "output_type": "stream",
     "text": [
      "CPU times: user 577 ms, sys: 72.7 ms, total: 650 ms\n",
      "Wall time: 8.19 s\n"
     ]
    }
   ],
   "source": [
    "%%time\n",
    "random_forest_cv.fit(train_messages, train_sentiments);"
   ]
  },
  {
   "cell_type": "code",
   "execution_count": 22,
   "id": "5644cd0f-da30-4318-b921-992f8b037456",
   "metadata": {
    "tags": []
   },
   "outputs": [
    {
     "data": {
      "text/plain": [
       "0.7467084639498431"
      ]
     },
     "execution_count": 22,
     "metadata": {},
     "output_type": "execute_result"
    }
   ],
   "source": [
    "random_forest_cv.best_score_"
   ]
  },
  {
   "cell_type": "markdown",
   "id": "54b63e34-be5b-43c9-a2ab-7ce0250d474c",
   "metadata": {},
   "source": [
    "До речі, забавно, що випадковий ліс обирає якомога більше \"слабких учнів\" замість обмежень по росту й поділу вузлів."
   ]
  },
  {
   "cell_type": "code",
   "execution_count": 23,
   "id": "f20b9ae3-e7e7-469d-a1b6-cd326e320b2c",
   "metadata": {
    "tags": []
   },
   "outputs": [
    {
     "data": {
      "text/plain": [
       "{'randomforestclassifier__n_estimators': 50,\n",
       " 'randomforestclassifier__min_samples_split': 10,\n",
       " 'randomforestclassifier__min_samples_leaf': 1,\n",
       " 'randomforestclassifier__max_leaf_nodes': None,\n",
       " 'randomforestclassifier__max_depth': None,\n",
       " 'countvectorizer__ngram_range': (1, 1)}"
      ]
     },
     "execution_count": 23,
     "metadata": {},
     "output_type": "execute_result"
    }
   ],
   "source": [
    "random_forest_cv.best_params_"
   ]
  },
  {
   "cell_type": "code",
   "execution_count": 24,
   "id": "12f181aa-be32-491a-a01d-edf2bb745f87",
   "metadata": {
    "tags": []
   },
   "outputs": [],
   "source": [
    "predicted_sentiments = random_forest_cv.best_estimator_.predict(test_messages)"
   ]
  },
  {
   "cell_type": "code",
   "execution_count": 25,
   "id": "048cf131-5285-46d8-9c7f-6adb2ed02a92",
   "metadata": {
    "tags": []
   },
   "outputs": [
    {
     "data": {
      "text/plain": [
       "0.8013698630136986"
      ]
     },
     "execution_count": 25,
     "metadata": {},
     "output_type": "execute_result"
    }
   ],
   "source": [
    "accuracy_score(test_sentiments, predicted_sentiments)"
   ]
  },
  {
   "cell_type": "code",
   "execution_count": 26,
   "id": "a0fcd681-2d3a-4cbc-92af-aa9ebea203a7",
   "metadata": {
    "tags": []
   },
   "outputs": [
    {
     "data": {
      "image/png": "[encoded data removed]",
      "text/plain": [
       "<Figure size 800x600 with 2 Axes>"
      ]
     },
     "metadata": {},
     "output_type": "display_data"
    }
   ],
   "source": [
    "axes = subplots(figsize=(8, 6))[1]\n",
    "matrix = confusion_matrix(test_sentiments, predicted_sentiments)\n",
    "labels = random_forest_cv.best_estimator_['randomforestclassifier'].classes_\n",
    "chart = heatmap(\n",
    "    matrix,\n",
    "    annot=True,\n",
    "    ax=axes,\n",
    "    vmin=0,\n",
    "    fmt='d',\n",
    "    square=True\n",
    ")\n",
    "chart.set_xticklabels(labels)\n",
    "chart.set_yticklabels(labels)\n",
    "axes.set_title('Матриця невідповідностей, випадковий ліс')\n",
    "axes.set_xlabel('Спрогнозовані сентименти')\n",
    "axes.set_ylabel('Істинні сентименти');"
   ]
  },
  {
   "cell_type": "markdown",
   "id": "0da79dc0-4d2e-4029-a89a-6ddea2834176",
   "metadata": {},
   "source": [
    "Забавно, ця модель також робить немало помилок серед негативних відгуків :)"
   ]
  },
  {
   "cell_type": "code",
   "execution_count": 27,
   "id": "d0b29435-8490-475c-8f83-fcc32f9355c0",
   "metadata": {
    "tags": []
   },
   "outputs": [
    {
     "data": {
      "text/plain": [
       "132                         I did not enjoy this\n",
       "150                  This phone is disappointing\n",
       "145                    This is a useless product\n",
       "59     I regret wasting my money on this product\n",
       "155                   The food was below average\n",
       "34                    This product is overpriced\n",
       "160                     The hotel was overpriced\n",
       "37             The car broke down on the highway\n",
       "157            The view from here is unappealing\n",
       "133                         The car is expensive\n",
       "495         I can't believe I failed that exam 😭\n",
       "67                    I didn't enjoy this at all\n",
       "149           The service at this hotel was poor\n",
       "Name: message, dtype: object"
      ]
     },
     "execution_count": 27,
     "metadata": {},
     "output_type": "execute_result"
    }
   ],
   "source": [
    "test_messages[(test_sentiments == 'negative') & (predicted_sentiments == 'neutral')]"
   ]
  },
  {
   "cell_type": "markdown",
   "id": "fa3bd333-5384-4ca5-9d67-fa48b7e9d49c",
   "metadata": {},
   "source": [
    "## SVM + RBF"
   ]
  },
  {
   "cell_type": "markdown",
   "id": "c6f53a6c-ad00-4449-9a14-809871725c39",
   "metadata": {},
   "source": [
    "Настала черга [SVC](https://scikit-learn.org/stable/modules/generated/sklearn.svm.SVC.html) з RBF-ядром і зменшенням\n",
    "розмірності."
   ]
  },
  {
   "cell_type": "code",
   "execution_count": 28,
   "id": "48f66e28-608e-48b9-ae6e-bcc3ee6a8b83",
   "metadata": {
    "tags": []
   },
   "outputs": [],
   "source": [
    "rbf_svm_pipeline = make_pipeline(CountVectorizer(), TruncatedSVD(), SVC())"
   ]
  },
  {
   "cell_type": "code",
   "execution_count": 29,
   "id": "b5c64a1a-3ea8-4b21-b156-be9d62eaa1bc",
   "metadata": {
    "tags": []
   },
   "outputs": [],
   "source": [
    "rbf_svm_distributions = {\n",
    "    'truncatedsvd__n_components': [5, 50, 500],\n",
    "    'svc__C': 10.0 ** arange(-2, 3, 1),\n",
    "    'svc__gamma': ['scale', 'auto']\n",
    "}"
   ]
  },
  {
   "cell_type": "code",
   "execution_count": 30,
   "id": "ba9dedd5-4b97-4c4d-a122-e0ced949f2ce",
   "metadata": {
    "tags": []
   },
   "outputs": [],
   "source": [
    "rbf_svm_cv = GridSearchCV(rbf_svm_pipeline, rbf_svm_distributions, n_jobs=8, cv=5)"
   ]
  },
  {
   "cell_type": "code",
   "execution_count": 31,
   "id": "79508261-3791-4d8c-b389-d8875f7b28e3",
   "metadata": {
    "tags": []
   },
   "outputs": [
    {
     "name": "stdout",
     "output_type": "stream",
     "text": [
      "CPU times: user 803 ms, sys: 1.02 s, total: 1.83 s\n",
      "Wall time: 2.23 s\n"
     ]
    }
   ],
   "source": [
    "%%time\n",
    "rbf_svm_cv.fit(train_messages, train_sentiments);"
   ]
  },
  {
   "cell_type": "code",
   "execution_count": 32,
   "id": "4cc924c6-2c65-4a7f-858c-c83f43c32f35",
   "metadata": {
    "tags": []
   },
   "outputs": [
    {
     "data": {
      "text/plain": [
       "0.7924242424242425"
      ]
     },
     "execution_count": 32,
     "metadata": {},
     "output_type": "execute_result"
    }
   ],
   "source": [
    "rbf_svm_cv.best_score_"
   ]
  },
  {
   "cell_type": "code",
   "execution_count": 33,
   "id": "17c915fd-8e2f-4f57-9502-55e2821a3496",
   "metadata": {
    "tags": []
   },
   "outputs": [
    {
     "data": {
      "text/plain": [
       "{'svc__C': 100.0, 'svc__gamma': 'auto', 'truncatedsvd__n_components': 500}"
      ]
     },
     "execution_count": 33,
     "metadata": {},
     "output_type": "execute_result"
    }
   ],
   "source": [
    "rbf_svm_cv.best_params_"
   ]
  },
  {
   "cell_type": "code",
   "execution_count": 34,
   "id": "0b7d7363-433e-4964-ac66-473678542362",
   "metadata": {
    "tags": []
   },
   "outputs": [],
   "source": [
    "predicted_sentiments = rbf_svm_cv.best_estimator_.predict(test_messages)"
   ]
  },
  {
   "cell_type": "code",
   "execution_count": 35,
   "id": "fcf2da03-8bce-4f37-bb57-f20bc3311467",
   "metadata": {
    "tags": []
   },
   "outputs": [
    {
     "data": {
      "text/plain": [
       "0.8424657534246576"
      ]
     },
     "execution_count": 35,
     "metadata": {},
     "output_type": "execute_result"
    }
   ],
   "source": [
    "accuracy_score(test_sentiments, predicted_sentiments)"
   ]
  },
  {
   "cell_type": "code",
   "execution_count": 36,
   "id": "37e6f246-9d04-4251-8853-3e45a4863b4e",
   "metadata": {
    "tags": []
   },
   "outputs": [
    {
     "data": {
      "image/png": "[encoded data removed]",
      "text/plain": [
       "<Figure size 800x600 with 2 Axes>"
      ]
     },
     "metadata": {},
     "output_type": "display_data"
    }
   ],
   "source": [
    "axes = subplots(figsize=(8, 6))[1]\n",
    "matrix = confusion_matrix(test_sentiments, predicted_sentiments)\n",
    "labels = rbf_svm_cv.best_estimator_['svc'].classes_\n",
    "chart = heatmap(\n",
    "    matrix,\n",
    "    annot=True,\n",
    "    ax=axes,\n",
    "    vmin=0,\n",
    "    fmt='d',\n",
    "    square=True\n",
    ")\n",
    "chart.set_xticklabels(labels)\n",
    "chart.set_yticklabels(labels)\n",
    "axes.set_title('Матриця невідповідностей, SVM + RBF')\n",
    "axes.set_xlabel('Спрогнозовані сентименти')\n",
    "axes.set_ylabel('Істинні сентименти');"
   ]
  },
  {
   "cell_type": "markdown",
   "id": "45c2f645-d36c-4169-a8d3-a081b9778b77",
   "metadata": {},
   "source": [
    "## Лінійний SVM"
   ]
  },
  {
   "cell_type": "markdown",
   "id": "f3b5fb11-c4fe-4824-9329-1d0eac774df9",
   "metadata": {},
   "source": [
    "У лінійному SVC замість зменшення розмірності для покращення збіжності поставимо масштабування ознак, яке зберігає\n",
    "розрідженість введення."
   ]
  },
  {
   "cell_type": "code",
   "execution_count": 37,
   "id": "bbfa04eb-5904-4f81-833d-071410f8627b",
   "metadata": {
    "tags": []
   },
   "outputs": [],
   "source": [
    "linear_svm_pipeline = make_pipeline(CountVectorizer(), StandardScaler(with_mean=False), SVC(kernel='linear'))"
   ]
  },
  {
   "cell_type": "code",
   "execution_count": 38,
   "id": "5ea11e70-e235-4439-9626-c1c7dd113946",
   "metadata": {},
   "outputs": [],
   "source": [
    "linear_svm_distributions = {'svc__C': 10.0 ** arange(-2, 3, 1), 'svc__gamma': ['scale', 'auto']}"
   ]
  },
  {
   "cell_type": "code",
   "execution_count": 39,
   "id": "d7fe3dea-731e-4721-a877-b6197d5a8d40",
   "metadata": {
    "tags": []
   },
   "outputs": [],
   "source": [
    "linear_svm_cv = GridSearchCV(linear_svm_pipeline, linear_svm_distributions, n_jobs=8, cv=5)"
   ]
  },
  {
   "cell_type": "code",
   "execution_count": 40,
   "id": "a5506226-a3b9-4067-9e8f-06db90014284",
   "metadata": {
    "tags": []
   },
   "outputs": [
    {
     "name": "stdout",
     "output_type": "stream",
     "text": [
      "CPU times: user 84.1 ms, sys: 3.54 ms, total: 87.7 ms\n",
      "Wall time: 254 ms\n"
     ]
    }
   ],
   "source": [
    "%%time\n",
    "linear_svm_cv.fit(train_messages, train_sentiments);"
   ]
  },
  {
   "cell_type": "code",
   "execution_count": 41,
   "id": "7bb7d197-0d3c-4b22-990f-5ac07f49e7b7",
   "metadata": {
    "tags": []
   },
   "outputs": [
    {
     "data": {
      "text/plain": [
       "0.7785527690700104"
      ]
     },
     "execution_count": 41,
     "metadata": {},
     "output_type": "execute_result"
    }
   ],
   "source": [
    "linear_svm_cv.best_score_"
   ]
  },
  {
   "cell_type": "code",
   "execution_count": 42,
   "id": "1e13ef5e-c319-4523-81f6-f0aa10919816",
   "metadata": {
    "tags": []
   },
   "outputs": [
    {
     "data": {
      "text/plain": [
       "{'svc__C': 0.01, 'svc__gamma': 'scale'}"
      ]
     },
     "execution_count": 42,
     "metadata": {},
     "output_type": "execute_result"
    }
   ],
   "source": [
    "linear_svm_cv.best_params_"
   ]
  },
  {
   "cell_type": "code",
   "execution_count": 43,
   "id": "4885b72f-740e-4d8e-83bd-7c55707adc64",
   "metadata": {
    "tags": []
   },
   "outputs": [],
   "source": [
    "predicted_sentiments = linear_svm_cv.best_estimator_.predict(test_messages)"
   ]
  },
  {
   "cell_type": "code",
   "execution_count": 44,
   "id": "86778a60-3c77-42e3-9eae-03d1727a73d8",
   "metadata": {
    "tags": []
   },
   "outputs": [
    {
     "data": {
      "text/plain": [
       "0.8287671232876712"
      ]
     },
     "execution_count": 44,
     "metadata": {},
     "output_type": "execute_result"
    }
   ],
   "source": [
    "accuracy_score(test_sentiments, predicted_sentiments)"
   ]
  },
  {
   "cell_type": "code",
   "execution_count": 45,
   "id": "2dabc5a9-b14a-416f-b691-8a91e54934e2",
   "metadata": {
    "tags": []
   },
   "outputs": [
    {
     "data": {
      "image/png": "[encoded data removed]",
      "text/plain": [
       "<Figure size 800x600 with 2 Axes>"
      ]
     },
     "metadata": {},
     "output_type": "display_data"
    }
   ],
   "source": [
    "axes = subplots(figsize=(8, 6))[1]\n",
    "matrix = confusion_matrix(test_sentiments, predicted_sentiments)\n",
    "labels = linear_svm_cv.best_estimator_['svc'].classes_\n",
    "chart = heatmap(\n",
    "    matrix,\n",
    "    annot=True,\n",
    "    ax=axes,\n",
    "    vmin=0,\n",
    "    fmt='d',\n",
    "    square=True\n",
    ")\n",
    "chart.set_xticklabels(labels)\n",
    "chart.set_yticklabels(labels)\n",
    "axes.set_title('Матриця невідповідностей, лінійний SVM')\n",
    "axes.set_xlabel('Спрогнозовані сентименти')\n",
    "axes.set_ylabel('Істинні сентименти');"
   ]
  },
  {
   "cell_type": "markdown",
   "id": "293d9944-d4b0-498f-8251-5cd35da2c823",
   "metadata": {},
   "source": [
    "## Висновки"
   ]
  },
  {
   "cell_type": "markdown",
   "id": "c491f365-2c10-4457-bbd2-2df5d4c5dae3",
   "metadata": {},
   "source": [
    "Поропоную поглянути на кінцеву точність моделей на валідаційній та тестовій вибірках:\n",
    "\n",
    "Точність|Логістична регресія|Випадковий ліс|SVM + RBF|лінійний SVM|\n",
    "|---|---:|---:|---:|---:|\n",
    "|Валідаційна|0.790|0.747|0.792|0.779|\n",
    "|Тестова|0.849|0.801|0.842|0.829|\n",
    "\n",
    "Як бачимо, найкраще прогнозує логістична регресія, найгірше — випадковий ліс. Різниця результативності істотна,\n",
    "відсотки точності. В усіх алгоритмів тестова метрика більша за валідаційну. Також характерно те, що всі послуговувалися\n",
    "виключно уніграмами. Одна з найбільш чисельних помилок — коли негативні відгуки вважаються нейтральними. Можливо, надто\n",
    "рідкісні ознаки, або ж недостатньо токсичні :) В цілому, вибірка є занадто маленькою, аби результати на ній вважалися\n",
    "достовірними. "
   ]
  }
 ],
 "metadata": {
  "kernelspec": {
   "display_name": "Python 3 (ipykernel)",
   "language": "python",
   "name": "python3"
  },
  "language_info": {
   "codemirror_mode": {
    "name": "ipython",
    "version": 3
   },
   "file_extension": ".py",
   "mimetype": "text/x-python",
   "name": "python",
   "nbconvert_exporter": "python",
   "pygments_lexer": "ipython3",
   "version": "3.11.3"
  }
 },
 "nbformat": 4,
 "nbformat_minor": 5
}
